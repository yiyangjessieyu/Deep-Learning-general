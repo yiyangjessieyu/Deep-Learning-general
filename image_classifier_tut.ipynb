{
 "cells": [
  {
   "cell_type": "code",
   "execution_count": 12,
   "metadata": {},
   "outputs": [
    {
     "name": "stdout",
     "output_type": "stream",
     "text": [
      "2.7.12\n"
     ]
    }
   ],
   "source": [
    "# TUTORIAL FROM: https://medium.com/analytics-vidhya/how-to-create-your-own-custom-image-classifier-and-deploy-it-to-production-5506bb26a74b\n",
    "\n",
    "# Importing libraries\n",
    "from fastai import * \n",
    "print(fastai.__version__)\n",
    "from fastai import *\n",
    "from fastai.vision import *"
   ]
  },
  {
   "cell_type": "code",
   "execution_count": 13,
   "metadata": {},
   "outputs": [],
   "source": [
    "from pathlib import Path\n",
    "path = Path('data/imgcls')\n",
    "\n",
    "def create_folder():\n",
    "  path = Path('data/imgcls')\n",
    "  dest = path/folder\n",
    "  dest.mkdir(parents=True, exist_ok=True)\n",
    "\n",
    "\n",
    "folder = 'duck'\n",
    "file = '/content/data/imgcls/duck/duck.txt'\n",
    "create_folder()\n",
    "\n",
    "folder = 'retinal'\n",
    "file = '/content/data/imgcls/retinal/retinal.txt'\n",
    "create_folder()\n",
    "\n",
    "folder = 'book'\n",
    "file = '/content/data/imgcls/myFile/myFile.txt'\n",
    "create_folder()"
   ]
  },
  {
   "cell_type": "code",
   "execution_count": 14,
   "metadata": {},
   "outputs": [
    {
     "ename": "NameError",
     "evalue": "name 'download_images' is not defined",
     "output_type": "error",
     "traceback": [
      "\u001b[0;31m---------------------------------------------------------------------------\u001b[0m",
      "\u001b[0;31mNameError\u001b[0m                                 Traceback (most recent call last)",
      "Cell \u001b[0;32mIn[14], line 3\u001b[0m\n\u001b[1;32m      1\u001b[0m \u001b[39m# from fastai import download_images\u001b[39;00m\n\u001b[0;32m----> 3\u001b[0m download_images(\u001b[39m'\u001b[39m\u001b[39mduck.txt\u001b[39m\u001b[39m'\u001b[39m  , \u001b[39m'\u001b[39m\u001b[39m/content/data/imgcls/duck/\u001b[39m\u001b[39m'\u001b[39m, max_pics\u001b[39m=\u001b[39m\u001b[39m400\u001b[39m)\n",
      "\u001b[0;31mNameError\u001b[0m: name 'download_images' is not defined"
     ]
    }
   ],
   "source": [
    "# from fastai import download_images\n",
    "\n",
    "download_images('duck.txt'  , '/content/data/imgcls/duck/', max_pics=400)"
   ]
  },
  {
   "cell_type": "code",
   "execution_count": 17,
   "metadata": {},
   "outputs": [
    {
     "ename": "ImportError",
     "evalue": "cannot import name 'verify_images' from 'fastai' (/csse/users/yyu69/miniconda3/envs/myenv/lib/python3.10/site-packages/fastai/__init__.py)",
     "output_type": "error",
     "traceback": [
      "\u001b[0;31m---------------------------------------------------------------------------\u001b[0m",
      "\u001b[0;31mImportError\u001b[0m                               Traceback (most recent call last)",
      "Cell \u001b[0;32mIn[17], line 1\u001b[0m\n\u001b[0;32m----> 1\u001b[0m \u001b[39mfrom\u001b[39;00m \u001b[39mfastai\u001b[39;00m \u001b[39mimport\u001b[39;00m verify_images\n\u001b[1;32m      3\u001b[0m classes \u001b[39m=\u001b[39m [\u001b[39m'\u001b[39m\u001b[39mduck\u001b[39m\u001b[39m'\u001b[39m, \u001b[39m'\u001b[39m\u001b[39mretinal\u001b[39m\u001b[39m'\u001b[39m, \u001b[39m'\u001b[39m\u001b[39mbook\u001b[39m\u001b[39m'\u001b[39m] \u001b[39m# define your classes here\u001b[39;00m\n\u001b[1;32m      5\u001b[0m \u001b[39mfor\u001b[39;00m c \u001b[39min\u001b[39;00m classes:\n",
      "\u001b[0;31mImportError\u001b[0m: cannot import name 'verify_images' from 'fastai' (/csse/users/yyu69/miniconda3/envs/myenv/lib/python3.10/site-packages/fastai/__init__.py)"
     ]
    }
   ],
   "source": [
    "from fastai import verify_images\n",
    "\n",
    "classes = ['duck', 'retinal', 'book'] # define your classes here\n",
    "\n",
    "for c in classes:\n",
    "    print(c)\n",
    "    verify_images(path/c, delete=True, max_size=500)"
   ]
  }
 ],
 "metadata": {
  "kernelspec": {
   "display_name": "myenv",
   "language": "python",
   "name": "python3"
  },
  "language_info": {
   "codemirror_mode": {
    "name": "ipython",
    "version": 3
   },
   "file_extension": ".py",
   "mimetype": "text/x-python",
   "name": "python",
   "nbconvert_exporter": "python",
   "pygments_lexer": "ipython3",
   "version": "3.10.12"
  },
  "orig_nbformat": 4
 },
 "nbformat": 4,
 "nbformat_minor": 2
}
